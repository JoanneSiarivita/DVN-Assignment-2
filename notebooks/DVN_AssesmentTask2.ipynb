{
 "cells": [
  {
   "cell_type": "markdown",
   "metadata": {
    "id": "yUmI0o8ERk2F"
   },
   "source": [
    "For this project, I will be coding via the terminal in Visual Studio Code and replicating my project in Github. The code that follows will have instructions and links to the github repo."
   ]
  },
  {
   "cell_type": "markdown",
   "metadata": {},
   "source": [
    "**Load commands and packages to explore dataset**"
   ]
  },
  {
   "cell_type": "code",
   "execution_count": 19,
   "metadata": {
    "id": "WWYHEKzBa8_m",
    "tags": []
   },
   "outputs": [
    {
     "name": "stdout",
     "output_type": "stream",
     "text": [
      "The autoreload extension is already loaded. To reload it, use:\n",
      "  %reload_ext autoreload\n"
     ]
    }
   ],
   "source": [
    "#Commands to automatically load modules\n",
    "%load_ext autoreload\n",
    "%autoreload 2"
   ]
  },
  {
   "cell_type": "code",
   "execution_count": 20,
   "metadata": {
    "id": "1to0yz4iOcbe",
    "tags": []
   },
   "outputs": [],
   "source": [
    "#Import library packages to use for the task\n",
    "import pandas as pd\n",
    "import numpy as np"
   ]
  },
  {
   "cell_type": "markdown",
   "metadata": {
    "id": "ceuWZhD_OziG"
   },
   "source": [
    "**Load dataset into dataframe**"
   ]
  },
  {
   "cell_type": "code",
   "execution_count": 21,
   "metadata": {
    "colab": {
     "base_uri": "https://localhost:8080/",
     "height": 296
    },
    "id": "FlxV2kXUOz2F",
    "outputId": "b437419b-8c2a-40a9-dd28-b7286c82a924",
    "tags": []
   },
   "outputs": [],
   "source": [
    "df = pd.read_csv('../data/raw/FastFoodNutritionMenuV3.csv')"
   ]
  },
  {
   "cell_type": "markdown",
   "metadata": {
    "id": "xcKZ8yRGO0MX"
   },
   "source": [
    "**Display basic information about the dataset**"
   ]
  },
  {
   "cell_type": "code",
   "execution_count": 22,
   "metadata": {
    "id": "Vq801OCLO0iU",
    "tags": []
   },
   "outputs": [
    {
     "data": {
      "text/html": [
       "<div>\n",
       "<style scoped>\n",
       "    .dataframe tbody tr th:only-of-type {\n",
       "        vertical-align: middle;\n",
       "    }\n",
       "\n",
       "    .dataframe tbody tr th {\n",
       "        vertical-align: top;\n",
       "    }\n",
       "\n",
       "    .dataframe thead th {\n",
       "        text-align: right;\n",
       "    }\n",
       "</style>\n",
       "<table border=\"1\" class=\"dataframe\">\n",
       "  <thead>\n",
       "    <tr style=\"text-align: right;\">\n",
       "      <th></th>\n",
       "      <th>Company</th>\n",
       "      <th>Item</th>\n",
       "      <th>Calories</th>\n",
       "      <th>Calories from\\nFat</th>\n",
       "      <th>Total Fat\\n(g)</th>\n",
       "      <th>Saturated Fat\\n(g)</th>\n",
       "      <th>Trans Fat\\n(g)</th>\n",
       "      <th>Cholesterol\\n(mg)</th>\n",
       "      <th>Sodium \\n(mg)</th>\n",
       "      <th>Carbs\\n(g)</th>\n",
       "      <th>Fiber\\n(g)</th>\n",
       "      <th>Sugars\\n(g)</th>\n",
       "      <th>Protein\\n(g)</th>\n",
       "      <th>Weight Watchers\\nPnts</th>\n",
       "    </tr>\n",
       "  </thead>\n",
       "  <tbody>\n",
       "    <tr>\n",
       "      <th>0</th>\n",
       "      <td>McDonald’s</td>\n",
       "      <td>Hamburger</td>\n",
       "      <td>250</td>\n",
       "      <td>80</td>\n",
       "      <td>9</td>\n",
       "      <td>3.5</td>\n",
       "      <td>0.5</td>\n",
       "      <td>25</td>\n",
       "      <td>520</td>\n",
       "      <td>31</td>\n",
       "      <td>2</td>\n",
       "      <td>6</td>\n",
       "      <td>12</td>\n",
       "      <td>247.5</td>\n",
       "    </tr>\n",
       "    <tr>\n",
       "      <th>1</th>\n",
       "      <td>McDonald’s</td>\n",
       "      <td>Cheeseburger</td>\n",
       "      <td>300</td>\n",
       "      <td>110</td>\n",
       "      <td>12</td>\n",
       "      <td>6</td>\n",
       "      <td>0.5</td>\n",
       "      <td>40</td>\n",
       "      <td>750</td>\n",
       "      <td>33</td>\n",
       "      <td>2</td>\n",
       "      <td>6</td>\n",
       "      <td>15</td>\n",
       "      <td>297</td>\n",
       "    </tr>\n",
       "    <tr>\n",
       "      <th>2</th>\n",
       "      <td>McDonald’s</td>\n",
       "      <td>Double Cheeseburger</td>\n",
       "      <td>440</td>\n",
       "      <td>210</td>\n",
       "      <td>23</td>\n",
       "      <td>11</td>\n",
       "      <td>1.5</td>\n",
       "      <td>80</td>\n",
       "      <td>1150</td>\n",
       "      <td>34</td>\n",
       "      <td>2</td>\n",
       "      <td>7</td>\n",
       "      <td>25</td>\n",
       "      <td>433</td>\n",
       "    </tr>\n",
       "    <tr>\n",
       "      <th>3</th>\n",
       "      <td>McDonald’s</td>\n",
       "      <td>McDouble</td>\n",
       "      <td>390</td>\n",
       "      <td>170</td>\n",
       "      <td>19</td>\n",
       "      <td>8</td>\n",
       "      <td>1</td>\n",
       "      <td>65</td>\n",
       "      <td>920</td>\n",
       "      <td>33</td>\n",
       "      <td>2</td>\n",
       "      <td>7</td>\n",
       "      <td>22</td>\n",
       "      <td>383</td>\n",
       "    </tr>\n",
       "    <tr>\n",
       "      <th>4</th>\n",
       "      <td>McDonald’s</td>\n",
       "      <td>Quarter Pounder® with Cheese</td>\n",
       "      <td>510</td>\n",
       "      <td>230</td>\n",
       "      <td>26</td>\n",
       "      <td>12</td>\n",
       "      <td>1.5</td>\n",
       "      <td>90</td>\n",
       "      <td>1190</td>\n",
       "      <td>40</td>\n",
       "      <td>3</td>\n",
       "      <td>9</td>\n",
       "      <td>29</td>\n",
       "      <td>502</td>\n",
       "    </tr>\n",
       "  </tbody>\n",
       "</table>\n",
       "</div>"
      ],
      "text/plain": [
       "      Company                           Item Calories Calories from\\nFat   \n",
       "0  McDonald’s                      Hamburger      250                 80  \\\n",
       "1  McDonald’s                   Cheeseburger      300                110   \n",
       "2  McDonald’s            Double Cheeseburger      440                210   \n",
       "3  McDonald’s                       McDouble      390                170   \n",
       "4  McDonald’s   Quarter Pounder® with Cheese      510                230   \n",
       "\n",
       "  Total Fat\\n(g) Saturated Fat\\n(g) Trans Fat\\n(g) Cholesterol\\n(mg)   \n",
       "0              9                3.5            0.5                25  \\\n",
       "1             12                  6            0.5                40   \n",
       "2             23                 11            1.5                80   \n",
       "3             19                  8              1                65   \n",
       "4             26                 12            1.5                90   \n",
       "\n",
       "  Sodium \\n(mg) Carbs\\n(g) Fiber\\n(g) Sugars\\n(g) Protein\\n(g)   \n",
       "0           520         31          2           6           12  \\\n",
       "1           750         33          2           6           15   \n",
       "2          1150         34          2           7           25   \n",
       "3           920         33          2           7           22   \n",
       "4          1190         40          3           9           29   \n",
       "\n",
       "  Weight Watchers\\nPnts  \n",
       "0                 247.5  \n",
       "1                   297  \n",
       "2                   433  \n",
       "3                   383  \n",
       "4                   502  "
      ]
     },
     "execution_count": 22,
     "metadata": {},
     "output_type": "execute_result"
    }
   ],
   "source": [
    "df.head()"
   ]
  },
  {
   "cell_type": "code",
   "execution_count": 23,
   "metadata": {
    "tags": []
   },
   "outputs": [
    {
     "data": {
      "text/plain": [
       "(1147, 14)"
      ]
     },
     "execution_count": 23,
     "metadata": {},
     "output_type": "execute_result"
    }
   ],
   "source": [
    "#Display the dimensions of the dataframe\n",
    "df.shape"
   ]
  },
  {
   "cell_type": "code",
   "execution_count": 24,
   "metadata": {
    "tags": []
   },
   "outputs": [
    {
     "name": "stdout",
     "output_type": "stream",
     "text": [
      "<class 'pandas.core.frame.DataFrame'>\n",
      "RangeIndex: 1147 entries, 0 to 1146\n",
      "Data columns (total 14 columns):\n",
      " #   Column                Non-Null Count  Dtype \n",
      "---  ------                --------------  ----- \n",
      " 0   Company               1147 non-null   object\n",
      " 1   Item                  1147 non-null   object\n",
      " 2   Calories              1147 non-null   object\n",
      " 3   Calories from\n",
      "Fat     642 non-null    object\n",
      " 4   Total Fat\n",
      "(g)         1091 non-null   object\n",
      " 5   Saturated Fat\n",
      "(g)     1091 non-null   object\n",
      " 6   Trans Fat\n",
      "(g)         1091 non-null   object\n",
      " 7   Cholesterol\n",
      "(mg)      1147 non-null   object\n",
      " 8   Sodium \n",
      "(mg)          1147 non-null   object\n",
      " 9   Carbs\n",
      "(g)             1091 non-null   object\n",
      " 10  Fiber\n",
      "(g)             1091 non-null   object\n",
      " 11  Sugars\n",
      "(g)            1147 non-null   object\n",
      " 12  Protein\n",
      "(g)           1091 non-null   object\n",
      " 13  Weight Watchers\n",
      "Pnts  887 non-null    object\n",
      "dtypes: object(14)\n",
      "memory usage: 125.6+ KB\n"
     ]
    }
   ],
   "source": [
    "#Display the summary info of df\n",
    "df.info()"
   ]
  },
  {
   "cell_type": "code",
   "execution_count": 25,
   "metadata": {
    "tags": []
   },
   "outputs": [
    {
     "data": {
      "text/html": [
       "<div>\n",
       "<style scoped>\n",
       "    .dataframe tbody tr th:only-of-type {\n",
       "        vertical-align: middle;\n",
       "    }\n",
       "\n",
       "    .dataframe tbody tr th {\n",
       "        vertical-align: top;\n",
       "    }\n",
       "\n",
       "    .dataframe thead th {\n",
       "        text-align: right;\n",
       "    }\n",
       "</style>\n",
       "<table border=\"1\" class=\"dataframe\">\n",
       "  <thead>\n",
       "    <tr style=\"text-align: right;\">\n",
       "      <th></th>\n",
       "      <th>Company</th>\n",
       "      <th>Item</th>\n",
       "      <th>Calories</th>\n",
       "      <th>Calories from\\nFat</th>\n",
       "      <th>Total Fat\\n(g)</th>\n",
       "      <th>Saturated Fat\\n(g)</th>\n",
       "      <th>Trans Fat\\n(g)</th>\n",
       "      <th>Cholesterol\\n(mg)</th>\n",
       "      <th>Sodium \\n(mg)</th>\n",
       "      <th>Carbs\\n(g)</th>\n",
       "      <th>Fiber\\n(g)</th>\n",
       "      <th>Sugars\\n(g)</th>\n",
       "      <th>Protein\\n(g)</th>\n",
       "      <th>Weight Watchers\\nPnts</th>\n",
       "    </tr>\n",
       "  </thead>\n",
       "  <tbody>\n",
       "    <tr>\n",
       "      <th>count</th>\n",
       "      <td>1147</td>\n",
       "      <td>1147</td>\n",
       "      <td>1147</td>\n",
       "      <td>642</td>\n",
       "      <td>1091</td>\n",
       "      <td>1091</td>\n",
       "      <td>1091</td>\n",
       "      <td>1147</td>\n",
       "      <td>1147</td>\n",
       "      <td>1091</td>\n",
       "      <td>1091</td>\n",
       "      <td>1147</td>\n",
       "      <td>1091</td>\n",
       "      <td>887</td>\n",
       "    </tr>\n",
       "    <tr>\n",
       "      <th>unique</th>\n",
       "      <td>6</td>\n",
       "      <td>1071</td>\n",
       "      <td>105</td>\n",
       "      <td>64</td>\n",
       "      <td>73</td>\n",
       "      <td>35</td>\n",
       "      <td>11</td>\n",
       "      <td>65</td>\n",
       "      <td>214</td>\n",
       "      <td>131</td>\n",
       "      <td>17</td>\n",
       "      <td>122</td>\n",
       "      <td>56</td>\n",
       "      <td>524</td>\n",
       "    </tr>\n",
       "    <tr>\n",
       "      <th>top</th>\n",
       "      <td>McDonald’s</td>\n",
       "      <td>20 fl oz</td>\n",
       "      <td>0</td>\n",
       "      <td>0</td>\n",
       "      <td>0</td>\n",
       "      <td>0</td>\n",
       "      <td>0</td>\n",
       "      <td>0</td>\n",
       "      <td>0</td>\n",
       "      <td>0</td>\n",
       "      <td>0</td>\n",
       "      <td>0</td>\n",
       "      <td>0</td>\n",
       "      <td>0</td>\n",
       "    </tr>\n",
       "    <tr>\n",
       "      <th>freq</th>\n",
       "      <td>328</td>\n",
       "      <td>11</td>\n",
       "      <td>83</td>\n",
       "      <td>175</td>\n",
       "      <td>357</td>\n",
       "      <td>383</td>\n",
       "      <td>954</td>\n",
       "      <td>378</td>\n",
       "      <td>54</td>\n",
       "      <td>75</td>\n",
       "      <td>551</td>\n",
       "      <td>190</td>\n",
       "      <td>314</td>\n",
       "      <td>67</td>\n",
       "    </tr>\n",
       "  </tbody>\n",
       "</table>\n",
       "</div>"
      ],
      "text/plain": [
       "           Company      Item Calories Calories from\\nFat Total Fat\\n(g)   \n",
       "count         1147      1147     1147                642           1091  \\\n",
       "unique           6      1071      105                 64             73   \n",
       "top     McDonald’s  20 fl oz        0                  0              0   \n",
       "freq           328        11       83                175            357   \n",
       "\n",
       "       Saturated Fat\\n(g) Trans Fat\\n(g) Cholesterol\\n(mg) Sodium \\n(mg)   \n",
       "count                1091           1091              1147          1147  \\\n",
       "unique                 35             11                65           214   \n",
       "top                     0              0                 0             0   \n",
       "freq                  383            954               378            54   \n",
       "\n",
       "       Carbs\\n(g) Fiber\\n(g) Sugars\\n(g) Protein\\n(g) Weight Watchers\\nPnts  \n",
       "count        1091       1091        1147         1091                   887  \n",
       "unique        131         17         122           56                   524  \n",
       "top             0          0           0            0                     0  \n",
       "freq           75        551         190          314                    67  "
      ]
     },
     "execution_count": 25,
     "metadata": {},
     "output_type": "execute_result"
    }
   ],
   "source": [
    "#Display descriptive statistics of df\n",
    "df.describe(include='all')"
   ]
  },
  {
   "cell_type": "code",
   "execution_count": 27,
   "metadata": {
    "tags": []
   },
   "outputs": [
    {
     "data": {
      "text/plain": [
       "(7, 14)"
      ]
     },
     "execution_count": 27,
     "metadata": {},
     "output_type": "execute_result"
    }
   ],
   "source": [
    "#Count the number of duplicate rows in the dataframe\n",
    "df[df.duplicated()].shape"
   ]
  },
  {
   "cell_type": "code",
   "execution_count": 28,
   "metadata": {
    "tags": []
   },
   "outputs": [
    {
     "name": "stdout",
     "output_type": "stream",
     "text": [
      "Null values in the dataset:\n",
      "Company                    0\n",
      "Item                       0\n",
      "Calories                   0\n",
      "Calories from\\nFat       505\n",
      "Total Fat\\n(g)            56\n",
      "Saturated Fat\\n(g)        56\n",
      "Trans Fat\\n(g)            56\n",
      "Cholesterol\\n(mg)          0\n",
      "Sodium \\n(mg)              0\n",
      "Carbs\\n(g)                56\n",
      "Fiber\\n(g)                56\n",
      "Sugars\\n(g)                0\n",
      "Protein\\n(g)              56\n",
      "Weight Watchers\\nPnts    260\n",
      "dtype: int64\n"
     ]
    }
   ],
   "source": [
    "#Check for null values in dataset and display\n",
    "null_values = df.isnull().sum()\n",
    "print(\"Null values in the dataset:\")\n",
    "print(null_values)"
   ]
  },
  {
   "cell_type": "markdown",
   "metadata": {},
   "source": [
    "**Clean and prepare the dataset**"
   ]
  },
  {
   "cell_type": "code",
   "execution_count": 29,
   "metadata": {
    "tags": []
   },
   "outputs": [],
   "source": [
    "#Create a copy of the dataframe to be cleaned and prepared\n",
    "df_cleaned = df.copy()"
   ]
  },
  {
   "cell_type": "code",
   "execution_count": 31,
   "metadata": {
    "tags": []
   },
   "outputs": [],
   "source": [
    "#Replace null values with zero for the following columns\n",
    "replace_with_zero = ['Calories from\\nFat', 'Total Fat\\n(g)', 'Saturated Fat\\n(g)','Trans Fat\\n(g)', 'Carbs\\n(g)', 'Fiber\\n(g)', 'Protein\\n(g)', 'Weight Watchers\\nPnts']\n",
    "df_cleaned[replace_with_zero] = df_cleaned[replace_with_zero].fillna(0)"
   ]
  },
  {
   "cell_type": "code",
   "execution_count": 32,
   "metadata": {
    "tags": []
   },
   "outputs": [
    {
     "name": "stdout",
     "output_type": "stream",
     "text": [
      "Total percentage of null data: 0.00%\n"
     ]
    }
   ],
   "source": [
    "# Calculate the total number of null values in each column\n",
    "null_counts = df_cleaned.isnull().sum()\n",
    "\n",
    "# Calculate the total number of values in the DataFrame\n",
    "total_rows = df_cleaned.shape[0]\n",
    "\n",
    "# Calculate the total percentage of null values\n",
    "total_percent_null = (null_counts.sum() / total_rows) * 100\n",
    "\n",
    "print(f\"Total percentage of null data: {total_percent_null:.2f}%\")"
   ]
  },
  {
   "cell_type": "code",
   "execution_count": 33,
   "metadata": {
    "tags": []
   },
   "outputs": [
    {
     "name": "stdout",
     "output_type": "stream",
     "text": [
      "Null values in the dataset:\n",
      "Company                  0\n",
      "Item                     0\n",
      "Calories                 0\n",
      "Calories from\\nFat       0\n",
      "Total Fat\\n(g)           0\n",
      "Saturated Fat\\n(g)       0\n",
      "Trans Fat\\n(g)           0\n",
      "Cholesterol\\n(mg)        0\n",
      "Sodium \\n(mg)            0\n",
      "Carbs\\n(g)               0\n",
      "Fiber\\n(g)               0\n",
      "Sugars\\n(g)              0\n",
      "Protein\\n(g)             0\n",
      "Weight Watchers\\nPnts    0\n",
      "dtype: int64\n"
     ]
    }
   ],
   "source": [
    "#Check for null values in new dataframe and display\n",
    "null_values = df_cleaned.isnull().sum()\n",
    "print(\"Null values in the dataset:\")\n",
    "print(null_values)"
   ]
  },
  {
   "cell_type": "code",
   "execution_count": null,
   "metadata": {},
   "outputs": [],
   "source": []
  },
  {
   "cell_type": "code",
   "execution_count": null,
   "metadata": {},
   "outputs": [],
   "source": []
  },
  {
   "cell_type": "code",
   "execution_count": null,
   "metadata": {},
   "outputs": [],
   "source": []
  },
  {
   "cell_type": "code",
   "execution_count": null,
   "metadata": {},
   "outputs": [],
   "source": []
  },
  {
   "cell_type": "code",
   "execution_count": null,
   "metadata": {},
   "outputs": [],
   "source": []
  }
 ],
 "metadata": {
  "colab": {
   "provenance": []
  },
  "kernelspec": {
   "display_name": "Python 3 (ipykernel)",
   "language": "python",
   "name": "python3"
  },
  "language_info": {
   "codemirror_mode": {
    "name": "ipython",
    "version": 3
   },
   "file_extension": ".py",
   "mimetype": "text/x-python",
   "name": "python",
   "nbconvert_exporter": "python",
   "pygments_lexer": "ipython3",
   "version": "3.9.13"
  }
 },
 "nbformat": 4,
 "nbformat_minor": 4
}
